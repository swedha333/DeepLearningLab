{
 "cells": [
  {
   "cell_type": "code",
   "execution_count": 3,
   "id": "18d53178",
   "metadata": {},
   "outputs": [
    {
     "name": "stdout",
     "output_type": "stream",
     "text": [
      "tf.Tensor(\n",
      "[[3 4 5 8]\n",
      " [4 5 6 7]\n",
      " [1 1 1 1]], shape=(3, 4), dtype=int32)\n",
      "tf.Tensor([8 7 1], shape=(3,), dtype=int32)\n"
     ]
    }
   ],
   "source": [
    "mat=tf.constant([[3,4,5,8],[4,5,6,7],[1,1,1,1]])\n",
    "print(mat)\n",
    "matmax=tf.math.reduce_max(mat,axis=1)\n",
    "print(matmax)"
   ]
  },
  {
   "cell_type": "code",
   "execution_count": 1,
   "id": "9dec660f",
   "metadata": {
    "scrolled": true
   },
   "outputs": [
    {
     "name": "stdout",
     "output_type": "stream",
     "text": [
      "tf.Tensor(\n",
      "[[ 4  5  6  9]\n",
      " [11  7  8  9]\n",
      " [ 3  3  3  3]], shape=(3, 4), dtype=int32)\n"
     ]
    }
   ],
   "source": [
    "import tensorflow as tf\n",
    "a=tf.constant([[3,4,5,8],[4,5,6,7],[1,1,1,1]])\n",
    "b=tf.constant([[1,1,1,1],[7,2,2,2],[2,2,2,2]])\n",
    "c=tf.add(a,b)\n",
    "print(c)"
   ]
  },
  {
   "cell_type": "code",
   "execution_count": 2,
   "id": "3bd11fc6",
   "metadata": {},
   "outputs": [
    {
     "name": "stdout",
     "output_type": "stream",
     "text": [
      "tf.Tensor(\n",
      "[[ 3  5  7]\n",
      " [ 5  8 10]\n",
      " [ 7  4  2]], shape=(3, 3), dtype=int32)\n"
     ]
    }
   ],
   "source": [
    "list=[[1,2,3],[4,5,6],[1,1,1]]\n",
    "a=tf.constant([[2,3,4],[1,3,4],[6,3,1]])\n",
    "c=tf.add(list,a)\n",
    "print(c)\n"
   ]
  },
  {
   "cell_type": "code",
   "execution_count": null,
   "id": "467063ef",
   "metadata": {},
   "outputs": [],
   "source": []
  }
 ],
 "metadata": {
  "kernelspec": {
   "display_name": "Python 3 (ipykernel)",
   "language": "python",
   "name": "python3"
  },
  "language_info": {
   "codemirror_mode": {
    "name": "ipython",
    "version": 3
   },
   "file_extension": ".py",
   "mimetype": "text/x-python",
   "name": "python",
   "nbconvert_exporter": "python",
   "pygments_lexer": "ipython3",
   "version": "3.9.12"
  }
 },
 "nbformat": 4,
 "nbformat_minor": 5
}
